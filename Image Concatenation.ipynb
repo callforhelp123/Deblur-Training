{
 "cells": [
  {
   "cell_type": "code",
   "execution_count": 1,
   "id": "fa7a0820",
   "metadata": {},
   "outputs": [],
   "source": [
    "import tensorflow as tf\n",
    "import cv2\n",
    "import os\n",
    "import pathlib\n",
    "import time\n",
    "import datetime\n",
    "import numpy as np\n",
    "from matplotlib import pyplot as plt\n",
    "from IPython import display\n",
    "from PIL import Image"
   ]
  },
  {
   "cell_type": "code",
   "execution_count": 2,
   "id": "14635ad0",
   "metadata": {},
   "outputs": [],
   "source": [
    "os.chdir(r'C:\\Users\\jared\\Deblur Project\\input')\n",
    "os.curdir\n",
    "init_size = 100              #process 100 files at a time\n",
    "folders = os.listdir()\n",
    "filelist=[]                  #Keeps track of files.\n",
    "blurry_data=[]               #stores the blurred images.\n",
    "sharp_data=[]                #stores the sharp image.\n",
    "\n",
    "\n",
    "#filling the blurry data set\n",
    "blurry_files = os.listdir(folders[0])\n",
    "os.chdir(r'C:\\Users\\jared\\Deblur Project\\input\\Gaussian_blurred')\n",
    "for i in blurry_files:\n",
    "    im = Image.open(i)             #opening each image\n",
    "    width = 256   #setting width of image\n",
    "    height = 256 #setting height of image\n",
    "    im5 = im.resize((width, height), Image.ANTIALIAS)   #resizing image\n",
    "    x = np.asarray(im5)             #convert image to array\n",
    "   # x =(x-x.mean())/255.0# best down-sizing filter\n",
    "    blurry_data.append(x)\n",
    "\n",
    "\n",
    "os.chdir(r'C:\\Users\\jared\\Deblur Project\\input')\n",
    "\n",
    "#filling the sharp data set\n",
    "sharp_files = os.listdir(folders[2])\n",
    "os.chdir(r'C:\\Users\\jared\\Deblur Project\\input\\sharp')\n",
    "for i in sharp_files:\n",
    "    im = Image.open(i)             #opening each image\n",
    "    width = 256   #setting width of image\n",
    "    height = 256 #setting height of image\n",
    "    im5 = im.resize((width, height), Image.ANTIALIAS)   #resizing image\n",
    "    x = np.asarray(im5)             #convert image to array\n",
    "    #x =(x-x.mean())/255.0# best down-sizing filter\n",
    "    sharp_data.append(x)\n",
    "    \n",
    "blurry_data = np.asarray(blurry_data)\n",
    "sharp_data = np.asarray(sharp_data)"
   ]
  },
  {
   "cell_type": "code",
   "execution_count": 3,
   "id": "426b331d",
   "metadata": {},
   "outputs": [],
   "source": [
    "def concat_lib(image_set, how, with_plot=False):\n",
    "    # dimension of each matrix in image_set\n",
    "    shape_vals = [imat.shape for imat in image_set]\n",
    "    # length of dimension of each matrix in image_set\n",
    "    shape_lens = [len(ishp) for ishp in shape_vals]\n",
    "    # if all the images in image_set are read in same mode\n",
    "    channel_flag = True if len(set(shape_lens)) == 1 else False\n",
    "\n",
    "    if channel_flag:\n",
    "        ideal_shape = max(shape_vals)\n",
    "        images_resized = [\n",
    "            # function call to resize the image\n",
    "            resize_image(image_matrix=imat, nh=ideal_shape[0], nw=ideal_shape[1]) \n",
    "            if imat.shape != ideal_shape else imat for imat in image_set\n",
    "        ]\n",
    "    else:\n",
    "        return False\n",
    "\n",
    "    # cv2 library code to concatenate the image matrices\n",
    "    # we use methods like\n",
    "    #     - vconcat() → vertical concat\n",
    "    #     - hconcat() → horizontal concat\n",
    "    if (how == 0) or (how == 'vertical'):\n",
    "        concats = cv2.vconcat(images_resized)\n",
    "    elif (how == 1) or (how == 'horizontal'):\n",
    "        concats = cv2.hconcat(images_resized)\n",
    "    else:\n",
    "        concats = cv2.hconcat(images_resized)\n",
    "    if with_plot:\n",
    "        cmap_val = None if len(concats.shape) == 3 else 'gray'\n",
    "        plt.figure(figsize=(10, 6))\n",
    "        plt.axis(\"off\")\n",
    "        plt.imshow(concats, cmap=cmap_val)\n",
    "        return True\n",
    "    return concats"
   ]
  },
  {
   "cell_type": "code",
   "execution_count": 4,
   "id": "acd0f642",
   "metadata": {},
   "outputs": [],
   "source": [
    "destination = r'C:\\Users\\jared\\Deblur Project\\concatenated images/filename'\n",
    "for i in range(0, len(blurry_data)):\n",
    "    c_image = concat_lib(image_set = [sharp_data[i], blurry_data[i]], how = 'horizontal', with_plot = False)\n",
    "    plt.imsave(destination + str(i) +'.jpg', c_image)"
   ]
  },
  {
   "cell_type": "code",
   "execution_count": null,
   "id": "d69436c4",
   "metadata": {},
   "outputs": [],
   "source": []
  }
 ],
 "metadata": {
  "kernelspec": {
   "display_name": "Python 3 (ipykernel)",
   "language": "python",
   "name": "python3"
  },
  "language_info": {
   "codemirror_mode": {
    "name": "ipython",
    "version": 3
   },
   "file_extension": ".py",
   "mimetype": "text/x-python",
   "name": "python",
   "nbconvert_exporter": "python",
   "pygments_lexer": "ipython3",
   "version": "3.9.7"
  }
 },
 "nbformat": 4,
 "nbformat_minor": 5
}
